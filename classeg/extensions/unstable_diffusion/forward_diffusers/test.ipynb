{
 "cells": [
  {
   "cell_type": "code",
   "execution_count": 2,
   "metadata": {},
   "outputs": [],
   "source": [
    "import torch\n",
    "import matplotlib.pyplot as plt\n",
    "from classeg.extensions.unstable_diffusion.forward_diffusers.diffusers import LinearDiffuser"
   ]
  },
  {
   "cell_type": "code",
   "execution_count": 3,
   "metadata": {},
   "outputs": [
    {
     "name": "stdout",
     "output_type": "stream",
     "text": [
      "torch.Size([4])\n",
      "torch.Size([4, 3, 128, 128])\n"
     ]
    }
   ],
   "source": [
    "xt_im = torch.randn( (4, 3, 128, 128))\n",
    "xt_seg = torch.randn( (4, 1, 128, 128))\n",
    "\n",
    "mini = xt_im.reshape(xt_im.shape[0], -1 ).min(dim=-1)\n",
    "print(mini.values.shape)\n",
    "print(xt_im.size())"
   ]
  },
  {
   "cell_type": "code",
   "execution_count": 39,
   "metadata": {},
   "outputs": [],
   "source": [
    "import numpy as np\n",
    "def get_beta_schedule(beta_schedule, *, beta_start, beta_end, num_diffusion_timesteps):\n",
    "    def sigmoid(x):\n",
    "        return 1 / (np.exp(-x) + 1)\n",
    "\n",
    "    if beta_schedule == \"quad\":\n",
    "        betas = (\n",
    "            np.linspace(\n",
    "                beta_start ** 0.5,\n",
    "                beta_end ** 0.5,\n",
    "                num_diffusion_timesteps,\n",
    "                dtype=np.float64,\n",
    "            )\n",
    "            ** 2\n",
    "        )\n",
    "    elif beta_schedule == \"linear\":\n",
    "        betas = np.linspace(\n",
    "            beta_start, beta_end, num_diffusion_timesteps, dtype=np.float64\n",
    "        )\n",
    "    elif beta_schedule == \"const\":\n",
    "        betas = beta_end * np.ones(num_diffusion_timesteps, dtype=np.float64)\n",
    "    elif beta_schedule == \"jsd\":  # 1/T, 1/(T-1), 1/(T-2), ..., 1\n",
    "        betas = 1.0 / np.linspace(\n",
    "            num_diffusion_timesteps, 1, num_diffusion_timesteps, dtype=np.float64\n",
    "        )\n",
    "    elif beta_schedule == \"sigmoid\":\n",
    "        betas = np.linspace(-6, 6, num_diffusion_timesteps)\n",
    "        betas = sigmoid(betas) * (beta_end - beta_start) + beta_start\n",
    "    else:\n",
    "        raise NotImplementedError(beta_schedule)\n",
    "    assert betas.shape == (num_diffusion_timesteps,)\n",
    "    return betas\n",
    "\n",
    "def compute_alpha(beta, t):\n",
    "    beta = torch.cat([torch.zeros(1).to(beta.device), beta], dim=0)\n",
    "    a = (1 - beta).cumprod(dim=0).index_select(0, t + 1).view(-1, 1, 1, 1)\n",
    "    return a"
   ]
  },
  {
   "cell_type": "code",
   "execution_count": 40,
   "metadata": {},
   "outputs": [
    {
     "name": "stdout",
     "output_type": "stream",
     "text": [
      "(100,)\n",
      "tensor([0.0015, 0.0017, 0.0019, 0.0020, 0.0022, 0.0024, 0.0026, 0.0028, 0.0030,\n",
      "        0.0031, 0.0033, 0.0035, 0.0037, 0.0039, 0.0040, 0.0042, 0.0044, 0.0046,\n",
      "        0.0048, 0.0050, 0.0051, 0.0053, 0.0055, 0.0057, 0.0059, 0.0060, 0.0062,\n",
      "        0.0064, 0.0066, 0.0068, 0.0070, 0.0071, 0.0073, 0.0075, 0.0077, 0.0079,\n",
      "        0.0080, 0.0082, 0.0084, 0.0086, 0.0088, 0.0090, 0.0091, 0.0093, 0.0095,\n",
      "        0.0097, 0.0099, 0.0100, 0.0102, 0.0104, 0.0106, 0.0108, 0.0110, 0.0111,\n",
      "        0.0113, 0.0115, 0.0117, 0.0119, 0.0120, 0.0122, 0.0124, 0.0126, 0.0128,\n",
      "        0.0130, 0.0131, 0.0133, 0.0135, 0.0137, 0.0139, 0.0140, 0.0142, 0.0144,\n",
      "        0.0146, 0.0148, 0.0150, 0.0151, 0.0153, 0.0155, 0.0157, 0.0159, 0.0160,\n",
      "        0.0162, 0.0164, 0.0166, 0.0168, 0.0170, 0.0171, 0.0173, 0.0175, 0.0177,\n",
      "        0.0179, 0.0180, 0.0182, 0.0184, 0.0186, 0.0188, 0.0190, 0.0191, 0.0193,\n",
      "        0.0195], dtype=torch.float64)\n",
      "tensor([0.0015, 0.0017, 0.0019, 0.0020, 0.0022, 0.0024, 0.0026, 0.0028, 0.0030,\n",
      "        0.0031, 0.0033, 0.0035, 0.0037, 0.0039, 0.0040, 0.0042, 0.0044, 0.0046,\n",
      "        0.0048, 0.0050, 0.0051, 0.0053, 0.0055, 0.0057, 0.0059, 0.0060, 0.0062,\n",
      "        0.0064, 0.0066, 0.0068, 0.0070, 0.0071, 0.0073, 0.0075, 0.0077, 0.0079,\n",
      "        0.0080, 0.0082, 0.0084, 0.0086, 0.0088, 0.0090, 0.0091, 0.0093, 0.0095,\n",
      "        0.0097, 0.0099, 0.0100, 0.0102, 0.0104, 0.0106, 0.0108, 0.0110, 0.0111,\n",
      "        0.0113, 0.0115, 0.0117, 0.0119, 0.0120, 0.0122, 0.0124, 0.0126, 0.0128,\n",
      "        0.0130, 0.0131, 0.0133, 0.0135, 0.0137, 0.0139, 0.0140, 0.0142, 0.0144,\n",
      "        0.0146, 0.0148, 0.0150, 0.0151, 0.0153, 0.0155, 0.0157, 0.0159, 0.0160,\n",
      "        0.0162, 0.0164, 0.0166, 0.0168, 0.0170, 0.0171, 0.0173, 0.0175, 0.0177,\n",
      "        0.0179, 0.0180, 0.0182, 0.0184, 0.0186, 0.0188, 0.0190, 0.0191, 0.0193,\n",
      "        0.0195])\n"
     ]
    }
   ],
   "source": [
    "betas  = get_beta_schedule(\"linear\", beta_start=0.0015, beta_end=0.0195, num_diffusion_timesteps=100)\n",
    "print(betas.shape)\n",
    "betas = torch.from_numpy(betas)\n",
    "print(betas)\n",
    "\n",
    "\n",
    "our = LinearDiffuser(100, 0.0015, 0.0195)\n",
    "print(our._betas)"
   ]
  },
  {
   "cell_type": "code",
   "execution_count": 41,
   "metadata": {},
   "outputs": [
    {
     "name": "stdout",
     "output_type": "stream",
     "text": [
      "range(0, 100, 5)\n",
      "[-1, 0, 5, 10, 15, 20, 25, 30, 35, 40, 45, 50, 55, 60, 65, 70, 75, 80, 85, 90]\n"
     ]
    }
   ],
   "source": [
    "timesteps = 100\n",
    "num_timesteps = 20\n",
    "skip = timesteps // num_timesteps\n",
    "seq = range(0, timesteps, skip)\n",
    "seq_next = [-1] + list(seq[:-1])\n",
    "print(seq)\n",
    "print(seq_next)"
   ]
  },
  {
   "cell_type": "code",
   "execution_count": 55,
   "metadata": {},
   "outputs": [
    {
     "name": "stdout",
     "output_type": "stream",
     "text": [
      "95 90\n",
      "torch.Size([100])\n",
      "torch.Size([101])\n",
      "tensor([[[[0.3756]]]], dtype=torch.float64) tensor([0.3756])\n",
      "tensor([[[[0.4121]]]], dtype=torch.float64) tensor([0.4121])\n",
      "90 85\n",
      "torch.Size([100])\n",
      "torch.Size([101])\n",
      "tensor([[[[0.4121]]]], dtype=torch.float64) tensor([0.4121])\n",
      "tensor([[[[0.4502]]]], dtype=torch.float64) tensor([0.4502])\n",
      "85 80\n",
      "torch.Size([100])\n",
      "torch.Size([101])\n",
      "tensor([[[[0.4502]]]], dtype=torch.float64) tensor([0.4502])\n",
      "tensor([[[[0.4895]]]], dtype=torch.float64) tensor([0.4895])\n",
      "80 75\n",
      "torch.Size([100])\n",
      "torch.Size([101])\n",
      "tensor([[[[0.4895]]]], dtype=torch.float64) tensor([0.4895])\n",
      "tensor([[[[0.5297]]]], dtype=torch.float64) tensor([0.5297])\n",
      "75 70\n",
      "torch.Size([100])\n",
      "torch.Size([101])\n",
      "tensor([[[[0.5297]]]], dtype=torch.float64) tensor([0.5297])\n",
      "tensor([[[[0.5706]]]], dtype=torch.float64) tensor([0.5706])\n",
      "70 65\n",
      "torch.Size([100])\n",
      "torch.Size([101])\n",
      "tensor([[[[0.5706]]]], dtype=torch.float64) tensor([0.5706])\n",
      "tensor([[[[0.6119]]]], dtype=torch.float64) tensor([0.6119])\n",
      "65 60\n",
      "torch.Size([100])\n",
      "torch.Size([101])\n",
      "tensor([[[[0.6119]]]], dtype=torch.float64) tensor([0.6119])\n",
      "tensor([[[[0.6531]]]], dtype=torch.float64) tensor([0.6531])\n",
      "60 55\n",
      "torch.Size([100])\n",
      "torch.Size([101])\n",
      "tensor([[[[0.6531]]]], dtype=torch.float64) tensor([0.6531])\n",
      "tensor([[[[0.6939]]]], dtype=torch.float64) tensor([0.6939])\n",
      "55 50\n",
      "torch.Size([100])\n",
      "torch.Size([101])\n",
      "tensor([[[[0.6939]]]], dtype=torch.float64) tensor([0.6939])\n",
      "tensor([[[[0.7339]]]], dtype=torch.float64) tensor([0.7339])\n",
      "50 45\n",
      "torch.Size([100])\n",
      "torch.Size([101])\n",
      "tensor([[[[0.7339]]]], dtype=torch.float64) tensor([0.7339])\n",
      "tensor([[[[0.7726]]]], dtype=torch.float64) tensor([0.7726])\n",
      "45 40\n",
      "torch.Size([100])\n",
      "torch.Size([101])\n",
      "tensor([[[[0.7726]]]], dtype=torch.float64) tensor([0.7726])\n",
      "tensor([[[[0.8096]]]], dtype=torch.float64) tensor([0.8096])\n",
      "40 35\n",
      "torch.Size([100])\n",
      "torch.Size([101])\n",
      "tensor([[[[0.8096]]]], dtype=torch.float64) tensor([0.8096])\n",
      "tensor([[[[0.8445]]]], dtype=torch.float64) tensor([0.8445])\n",
      "35 30\n",
      "torch.Size([100])\n",
      "torch.Size([101])\n",
      "tensor([[[[0.8445]]]], dtype=torch.float64) tensor([0.8445])\n",
      "tensor([[[[0.8769]]]], dtype=torch.float64) tensor([0.8769])\n",
      "30 25\n",
      "torch.Size([100])\n",
      "torch.Size([101])\n",
      "tensor([[[[0.8769]]]], dtype=torch.float64) tensor([0.8769])\n",
      "tensor([[[[0.9064]]]], dtype=torch.float64) tensor([0.9064])\n",
      "25 20\n",
      "torch.Size([100])\n",
      "torch.Size([101])\n",
      "tensor([[[[0.9064]]]], dtype=torch.float64) tensor([0.9064])\n",
      "tensor([[[[0.9326]]]], dtype=torch.float64) tensor([0.9326])\n",
      "20 15\n",
      "torch.Size([100])\n",
      "torch.Size([101])\n",
      "tensor([[[[0.9326]]]], dtype=torch.float64) tensor([0.9326])\n",
      "tensor([[[[0.9551]]]], dtype=torch.float64) tensor([0.9551])\n",
      "15 10\n",
      "torch.Size([100])\n",
      "torch.Size([101])\n",
      "tensor([[[[0.9551]]]], dtype=torch.float64) tensor([0.9551])\n",
      "tensor([[[[0.9738]]]], dtype=torch.float64) tensor([0.9738])\n",
      "10 5\n",
      "torch.Size([100])\n",
      "torch.Size([101])\n",
      "tensor([[[[0.9738]]]], dtype=torch.float64) tensor([0.9738])\n",
      "tensor([[[[0.9883]]]], dtype=torch.float64) tensor([0.9883])\n",
      "5 0\n",
      "torch.Size([100])\n",
      "torch.Size([101])\n",
      "tensor([[[[0.9883]]]], dtype=torch.float64) tensor([0.9883])\n",
      "tensor([[[[0.9985]]]], dtype=torch.float64) tensor([0.9985])\n",
      "0 -1\n",
      "torch.Size([100])\n",
      "torch.Size([101])\n",
      "tensor([[[[0.9985]]]], dtype=torch.float64) tensor([0.9985])\n",
      "tensor([[[[1.]]]], dtype=torch.float64) tensor([1.])\n"
     ]
    }
   ],
   "source": [
    "for i, j in zip(reversed(seq), reversed(seq_next)):\n",
    "  print(i, j)\n",
    "  t = (torch.ones(1) * i)\n",
    "  next_t = (torch.ones(1) * j)\n",
    "\n",
    "  at =  compute_alpha(betas, t.long())\n",
    "  at_next = compute_alpha(betas, next_t.long())\n",
    "  print(our._alpha_bars.shape)\n",
    "\n",
    "  alpha_bars = torch.cat([our._alpha_bars, torch.tensor([1.0])], dim=0)\n",
    "  print(alpha_bars.shape)\n",
    "  att = alpha_bars[t.long()]\n",
    "  att_next = alpha_bars[next_t.long()]\n",
    "  print(at, att)\n",
    "  print(at_next, att_next)\n",
    "\n",
    "  \n",
    "  beta_t = 1 - att/ att_next\n",
    "\n"
   ]
  },
  {
   "cell_type": "code",
   "execution_count": null,
   "metadata": {},
   "outputs": [],
   "source": []
  },
  {
   "cell_type": "code",
   "execution_count": null,
   "metadata": {},
   "outputs": [],
   "source": []
  },
  {
   "cell_type": "code",
   "execution_count": null,
   "metadata": {},
   "outputs": [],
   "source": []
  }
 ],
 "metadata": {
  "kernelspec": {
   "display_name": ".env",
   "language": "python",
   "name": "python3"
  },
  "language_info": {
   "codemirror_mode": {
    "name": "ipython",
    "version": 3
   },
   "file_extension": ".py",
   "mimetype": "text/x-python",
   "name": "python",
   "nbconvert_exporter": "python",
   "pygments_lexer": "ipython3",
   "version": "3.11.5"
  },
  "orig_nbformat": 4
 },
 "nbformat": 4,
 "nbformat_minor": 2
}
