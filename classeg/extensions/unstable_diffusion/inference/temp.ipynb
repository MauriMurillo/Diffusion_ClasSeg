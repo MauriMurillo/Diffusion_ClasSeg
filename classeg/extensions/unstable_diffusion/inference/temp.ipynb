{
 "cells": [
  {
   "cell_type": "code",
   "execution_count": 1,
   "metadata": {},
   "outputs": [
    {
     "name": "stderr",
     "output_type": "stream",
     "text": [
      "/home/student/andrewheschl/Documents/Diffusion_ClasSeg/.venv/lib/python3.11/site-packages/albumentations/__init__.py:13: UserWarning: A new version of Albumentations is available: 1.4.20 (you have 1.4.15). Upgrade using: pip install -U albumentations. To disable automatic update checks, set the environment variable NO_ALBUMENTATIONS_UPDATE to 1.\n",
      "  check_for_updates()\n"
     ]
    }
   ],
   "source": [
    "from classeg.extensions.unstable_diffusion.inference.inferer import UnstableDiffusionInferer\n",
    "\n",
    "inferer = UnstableDiffusionInferer(\n",
    "        \"Dataset_large_421\",\n",
    "        0,\n",
    "        \"attention_double\",\n",
    "        \"latest\",\n",
    "        None\n",
    "    )"
   ]
  },
  {
   "cell_type": "code",
   "execution_count": 2,
   "metadata": {},
   "outputs": [
    {
     "name": "stderr",
     "output_type": "stream",
     "text": [
      "/home/student/andrewheschl/Documents/Diffusion_ClasSeg/classeg/extensions/unstable_diffusion/inference/inferer.py:115: FutureWarning: You are using `torch.load` with `weights_only=False` (the current default value), which uses the default pickle module implicitly. It is possible to construct malicious pickle data which will execute arbitrary code during unpickling (See https://github.com/pytorch/pytorch/blob/main/SECURITY.md#untrusted-models for more details). In a future release, the default value for `weights_only` will be flipped to `True`. This limits the functions that could be executed during unpickling. Arbitrary objects will no longer be allowed to be loaded via this mode unless they are explicitly allowlisted by the user via `torch.serialization.add_safe_globals`. We recommend you start setting `weights_only=True` for any use case where you don't have full control of the loaded file. Please open an issue on GitHub for any issues related to this experimental feature.\n",
      "  checkpoint = torch.load(\n"
     ]
    },
    {
     "data": {
      "text/plain": [
       "'/home/student/andrewheschl/Documents/Datasets/ClassificationDataset/results/Dataset_large_421/fold_0/attention_double/inference'"
      ]
     },
     "execution_count": 2,
     "metadata": {},
     "output_type": "execute_result"
    }
   ],
   "source": [
    "inferer.pre_infer()"
   ]
  },
  {
   "cell_type": "code",
   "execution_count": 7,
   "metadata": {},
   "outputs": [
    {
     "name": "stderr",
     "output_type": "stream",
     "text": [
      "  0%|          | 0/103 [00:00<?, ?it/s]"
     ]
    },
    {
     "name": "stderr",
     "output_type": "stream",
     "text": [
      "100%|██████████| 103/103 [00:25<00:00,  4.01it/s]\n"
     ]
    }
   ],
   "source": [
    "# /home/student/andrewheschl/Documents/Datasets/ClassificationDataset/preprocessed/Dataset_large_421/fold_0/val/imagesTr\n",
    "# is a folder with a bunch of .npy images.\n",
    "# make a dataset out of this folder, and a dataloader out of the dataset\n",
    "# code is here, not commented:\n",
    "\n",
    "from torch.utils.data import DataLoader\n",
    "from torchvision import datasets, transforms\n",
    "import numpy as np\n",
    "import torch\n",
    "import matplotlib.pyplot as plt\n",
    "import tqdm\n",
    "# use tensorboard to visualize the embeddings\n",
    "from torch.utils.tensorboard import SummaryWriter\n",
    "\n",
    "\n",
    "def numpy_loader(path):\n",
    "    sample = np.load(path)\n",
    "    return torch.from_numpy(sample).to(torch.float32)\n",
    "\n",
    "# no classes because we're not doing classification\n",
    "dataset = datasets.DatasetFolder(\n",
    "    \"/home/student/andrewheschl/Documents/Datasets/ClassificationDataset/preprocessed/Dataset_large_421/fold_0/val\",\n",
    "    loader=numpy_loader,\n",
    "    transform=transforms.Compose([\n",
    "        transforms.RandomCrop((512, 512)),\n",
    "        # cv2.INTER_CUBIC\n",
    "        transforms.Resize((128, 128), interpolation=transforms.InterpolationMode.BICUBIC),\n",
    "    ]),\n",
    "    # classes=['imagesTr'],\n",
    "    is_valid_file=lambda x: \"imagesTr\" in x\n",
    ")\n",
    "\n",
    "dataloader = DataLoader(dataset, batch_size=64, shuffle=False, pin_memory=True)\n",
    "inferer.model.eval()\n",
    "inferer.model = inferer.model.cuda()\n",
    "\n",
    "embeddings = []\n",
    "images_all = []\n",
    "for images, labels in tqdm.tqdm(dataloader):\n",
    "    images = images.to('cuda')\n",
    "    embed, _ = inferer.model.embed_image(images)\n",
    "    embed = embed.detach().cpu().numpy()\n",
    "    images = images.detach().cpu().numpy()\n",
    "    embeddings.append(embed)\n",
    "    images_all.append(images)\n"
   ]
  },
  {
   "cell_type": "code",
   "execution_count": 16,
   "metadata": {},
   "outputs": [
    {
     "name": "stdout",
     "output_type": "stream",
     "text": [
      "(6583, 512) torch.Size([6583, 3, 16, 16])\n"
     ]
    }
   ],
   "source": [
    "stacked_embeddings = np.vstack(embeddings)\n",
    "stacked_images = torch.from_numpy(np.vstack(images_all))\n",
    "# downsize the images to 64 64\n",
    "writer = SummaryWriter()\n",
    "\n",
    "from torch.nn.functional import interpolate\n",
    "stacked_images = interpolate(stacked_images, (16, 16), mode='bilinear', align_corners=False)\n",
    "\n",
    "print(stacked_embeddings.shape, stacked_images.shape)\n",
    "\n",
    "writer.add_embedding(stacked_embeddings, label_img=stacked_images)"
   ]
  }
 ],
 "metadata": {
  "kernelspec": {
   "display_name": ".venv",
   "language": "python",
   "name": "python3"
  },
  "language_info": {
   "codemirror_mode": {
    "name": "ipython",
    "version": 3
   },
   "file_extension": ".py",
   "mimetype": "text/x-python",
   "name": "python",
   "nbconvert_exporter": "python",
   "pygments_lexer": "ipython3",
   "version": "3.11.5"
  }
 },
 "nbformat": 4,
 "nbformat_minor": 2
}
