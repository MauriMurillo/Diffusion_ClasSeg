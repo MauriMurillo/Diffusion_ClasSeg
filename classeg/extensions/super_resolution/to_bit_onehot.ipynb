{
 "cells": [
  {
   "cell_type": "code",
   "execution_count": 5,
   "metadata": {},
   "outputs": [],
   "source": [
    "import os\n",
    "from classeg.utils.constants import PREPROCESSED_ROOT\n",
    "import glob\n",
    "import numpy as np"
   ]
  },
  {
   "cell_type": "code",
   "execution_count": 4,
   "metadata": {},
   "outputs": [],
   "source": [
    "label_path = \"/home/andrewheschl/Documents/Dataset/ClassPipeline/preprocessed/Dataset_420/fold_0/train/labelsTr/case_00131.npy\""
   ]
  },
  {
   "cell_type": "code",
   "execution_count": 8,
   "metadata": {},
   "outputs": [
    {
     "name": "stdout",
     "output_type": "stream",
     "text": [
      "(1, 1024, 1024)\n",
      "[0. 1.]\n"
     ]
    }
   ],
   "source": [
    "label = np.load(label_path)\n",
    "print(label.shape)\n",
    "print(np.unique(label))"
   ]
  },
  {
   "cell_type": "code",
   "execution_count": 34,
   "metadata": {},
   "outputs": [
    {
     "name": "stdout",
     "output_type": "stream",
     "text": [
      "[0. 2.]\n"
     ]
    }
   ],
   "source": [
    "label2 = label*2\n",
    "print(np.unique(label2))"
   ]
  },
  {
   "cell_type": "code",
   "execution_count": 29,
   "metadata": {},
   "outputs": [
    {
     "data": {
      "text/plain": [
       "2.0"
      ]
     },
     "execution_count": 29,
     "metadata": {},
     "output_type": "execute_result"
    }
   ],
   "source": [
    "np.ceil(np.log2(label2.max())+1)"
   ]
  },
  {
   "cell_type": "code",
   "execution_count": 86,
   "metadata": {},
   "outputs": [],
   "source": [
    "# convert to bit representation of the discrete label mask, where channel 0 is the least significant bit\n",
    "def label_to_bitmask(label):\n",
    "    label = label.astype(np.uint8)\n",
    "    \n",
    "    n_bits = np.floor(np.log2(label.max())).astype(int) + 1\n",
    "    n_bits = max(n_bits, 1)\n",
    "\n",
    "    bitmask = np.zeros((n_bits, label.shape[1], label.shape[2]), dtype=np.uint8)\n",
    "    for i in range(n_bits):\n",
    "        bitmask[i, ...] = (label[0]//2**i)%2\n",
    "    return bitmask\n",
    "\n",
    "def bitmask_to_label(bitmask):\n",
    "    label = np.zeros((1, bitmask.shape[1], bitmask.shape[2]), dtype=np.uint8)\n",
    "    for i in range(bitmask.shape[0]):\n",
    "        label += bitmask[i, ...]*2**i\n",
    "    return label"
   ]
  },
  {
   "cell_type": "code",
   "execution_count": 93,
   "metadata": {},
   "outputs": [
    {
     "name": "stdout",
     "output_type": "stream",
     "text": [
      "(1, 1024, 1024) [0. 1.] (1, 1024, 1024) [0 1]\n",
      "(1, 1024, 1024) [0. 2.] (2, 1024, 1024) [0 1]\n"
     ]
    }
   ],
   "source": [
    "bitmask1 = label_to_bitmask(label)\n",
    "bitmask2 = label_to_bitmask(label2)\n",
    "\n",
    "print(label.shape, np.unique(label), bitmask1.shape, np.unique(bitmask1))\n",
    "print(label2.shape, np.unique(label2), bitmask2.shape, np.unique(bitmask2))"
   ]
  },
  {
   "cell_type": "code",
   "execution_count": 94,
   "metadata": {},
   "outputs": [
    {
     "name": "stdout",
     "output_type": "stream",
     "text": [
      "[0 1] (1, 1024, 1024)\n",
      "[0 2] (1, 1024, 1024)\n"
     ]
    }
   ],
   "source": [
    "label_returned = bitmask_to_label(bitmask1)\n",
    "print(np.unique(label_returned), label_returned.shape)\n",
    "label_returned2 = bitmask_to_label(bitmask2)\n",
    "print(np.unique(label_returned2), label_returned2.shape)"
   ]
  },
  {
   "cell_type": "code",
   "execution_count": 95,
   "metadata": {},
   "outputs": [
    {
     "name": "stdout",
     "output_type": "stream",
     "text": [
      "True\n",
      "True\n"
     ]
    }
   ],
   "source": [
    "print(np.all(label == label_returned))\n",
    "print(np.all(label2 == label_returned2))"
   ]
  },
  {
   "cell_type": "code",
   "execution_count": 105,
   "metadata": {},
   "outputs": [
    {
     "name": "stdout",
     "output_type": "stream",
     "text": [
      "(1, 4, 4) [0 1 2 3]\n",
      "(2, 4, 4) [0 1]\n",
      "[[[0 0 1 1]\n",
      "  [1 1 1 1]\n",
      "  [1 0 0 0]\n",
      "  [1 0 0 1]]\n",
      "\n",
      " [[1 0 0 0]\n",
      "  [0 0 1 1]\n",
      "  [1 1 0 0]\n",
      "  [1 1 1 0]]]\n",
      "==========\n",
      "[[[2 0 1 1]\n",
      "  [1 1 3 3]\n",
      "  [3 2 0 0]\n",
      "  [3 2 2 1]]]\n",
      "True\n"
     ]
    }
   ],
   "source": [
    "test_label = np.random.randint(0, 2**2, (1, 4, 4), dtype=np.uint8)\n",
    "print(test_label.shape, np.unique(test_label))\n",
    "\n",
    "test_bitmask = label_to_bitmask(test_label)\n",
    "print(test_bitmask.shape, np.unique(test_bitmask))\n",
    "print(test_bitmask)\n",
    "print(\"==========\")\n",
    "print(test_label)\n",
    "print(np.all(test_label == bitmask_to_label(test_bitmask)))"
   ]
  }
 ],
 "metadata": {
  "kernelspec": {
   "display_name": "ClasSegPipeline",
   "language": "python",
   "name": "python3"
  },
  "language_info": {
   "codemirror_mode": {
    "name": "ipython",
    "version": 3
   },
   "file_extension": ".py",
   "mimetype": "text/x-python",
   "name": "python",
   "nbconvert_exporter": "python",
   "pygments_lexer": "ipython3",
   "version": "3.11.9"
  },
  "orig_nbformat": 4
 },
 "nbformat": 4,
 "nbformat_minor": 2
}
