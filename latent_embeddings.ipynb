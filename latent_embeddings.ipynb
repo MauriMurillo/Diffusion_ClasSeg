{
 "cells": [
  {
   "cell_type": "code",
   "execution_count": null,
   "metadata": {},
   "outputs": [],
   "source": [
    "import torch\n",
    "from torch.utils.tensorboard import SummaryWriter\n",
    "from classeg.utils.utils import get_dataloaders_from_fold\n"
   ]
  },
  {
   "cell_type": "code",
   "execution_count": null,
   "metadata": {},
   "outputs": [],
   "source": [
    "tr_dat, val_dat = get_dataloaders_from_fold(\"\")"
   ]
  },
  {
   "cell_type": "code",
   "execution_count": null,
   "metadata": {},
   "outputs": [],
   "source": [
    "# Initialize TensorBoard writer\n",
    "writer = SummaryWriter(log_dir='runs/mnist_dim_reduction')\n",
    "\n",
    "# Add embeddings\n",
    "writer.add_embedding(\n",
    "    embeddings,             # Embedding data\n",
    "    metadata=labels,        # Metadata for coloring\n",
    "    label_img=images        # Original images (optional)\n",
    ")\n",
    "\n",
    "print(\"Embeddings added. Run 'tensorboard --logdir=runs' to visualize.\")\n",
    "writer.close()\n"
   ]
  }
 ],
 "metadata": {
  "kernelspec": {
   "display_name": ".venv",
   "language": "python",
   "name": "python3"
  },
  "language_info": {
   "name": "python",
   "version": "3.11.5"
  }
 },
 "nbformat": 4,
 "nbformat_minor": 2
}
